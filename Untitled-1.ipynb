{
 "cells": [
  {
   "cell_type": "code",
   "execution_count": 1,
   "metadata": {},
   "outputs": [
    {
     "name": "stderr",
     "output_type": "stream",
     "text": [
      "/tmp/ipykernel_58574/2514624444.py:16: FutureWarning: The provided callable <function sum at 0x7f79c0980700> is currently using DataFrameGroupBy.sum. In a future version of pandas, the provided callable will be used directly. To keep current behavior pass the string \"sum\" instead.\n",
      "  pivot_df = df.pivot_table(index='cliente', columns='fruta', values='ventas', aggfunc=np.sum)\n"
     ]
    },
    {
     "data": {
      "application/vnd.jupyter.widget-view+json": {
       "model_id": "2033f9927cc640b5aa233297a3c3cc93",
       "version_major": 2,
       "version_minor": 0
      },
      "text/plain": [
       "QgridWidget(grid_options={'fullWidthRows': True, 'syncColumnCellResize': True, 'forceFitColumns': True, 'defau…"
      ]
     },
     "metadata": {},
     "output_type": "display_data"
    }
   ],
   "source": [
    "# Importar las bibliotecas necesarias\n",
    "import pandas as pd\n",
    "import numpy as np\n",
    "import qgrid\n",
    "\n",
    "# Crear un DataFrame de ejemplo\n",
    "data = {\n",
    "    'fruta': ['manzana', 'manzana', 'naranja', 'naranja', 'manzana', 'naranja', 'manzana', 'naranja'],\n",
    "    'cliente': ['Juan', 'Ana', 'Juan', 'Ana', 'Ana', 'Juan', 'Juan', 'Ana'],\n",
    "    'ventas': [4, 5, 3, 3, 6, 2, 7, 2]\n",
    "}\n",
    "\n",
    "df = pd.DataFrame(data)\n",
    "\n",
    "# Crear la tabla pivotante\n",
    "pivot_df = df.pivot_table(index='cliente', columns='fruta', values='ventas', aggfunc=np.sum)\n",
    "\n",
    "# Mostrar la tabla pivotante de manera interactiva\n",
    "qgrid_widget = qgrid.show_grid(pivot_df, show_toolbar=True)\n",
    "qgrid_widget\n"
   ]
  }
 ],
 "metadata": {
  "kernelspec": {
   "display_name": "Python 3",
   "language": "python",
   "name": "python3"
  },
  "language_info": {
   "codemirror_mode": {
    "name": "ipython",
    "version": 3
   },
   "file_extension": ".py",
   "mimetype": "text/x-python",
   "name": "python",
   "nbconvert_exporter": "python",
   "pygments_lexer": "ipython3",
   "version": "3.10.12"
  }
 },
 "nbformat": 4,
 "nbformat_minor": 2
}
