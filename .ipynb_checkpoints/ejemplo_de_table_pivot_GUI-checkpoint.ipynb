{
 "cells": [
  {
   "cell_type": "code",
   "execution_count": 3,
   "metadata": {},
   "outputs": [
    {
     "ename": "Exception",
     "evalue": "The mitosheet currently only works in JupyterLab.\n\nTo see instructions on getting Mitosheet running in JupyterLab, find install instructions here: https://docs.trymito.io/getting-started/installing-mito",
     "output_type": "error",
     "traceback": [
      "\u001b[0;31m---------------------------------------------------------------------------\u001b[0m",
      "\u001b[0;31mException\u001b[0m                                 Traceback (most recent call last)",
      "\u001b[1;32m/home/job/Documentos/Python/ejemplo de table pivot GUI.ipynb Celda 1\u001b[0m line \u001b[0;36m1\n\u001b[1;32m     <a href='vscode-notebook-cell:/home/job/Documentos/Python/ejemplo%20de%20table%20pivot%20GUI.ipynb#W0sZmlsZQ%3D%3D?line=10'>11</a>\u001b[0m df \u001b[39m=\u001b[39m pd\u001b[39m.\u001b[39mDataFrame(data)\n\u001b[1;32m     <a href='vscode-notebook-cell:/home/job/Documentos/Python/ejemplo%20de%20table%20pivot%20GUI.ipynb#W0sZmlsZQ%3D%3D?line=12'>13</a>\u001b[0m \u001b[39m# Abrir Mito\u001b[39;00m\n\u001b[0;32m---> <a href='vscode-notebook-cell:/home/job/Documentos/Python/ejemplo%20de%20table%20pivot%20GUI.ipynb#W0sZmlsZQ%3D%3D?line=13'>14</a>\u001b[0m mitosheet\u001b[39m.\u001b[39;49msheet(df)\n",
      "File \u001b[0;32m~/.local/lib/python3.10/site-packages/mitosheet/mito_backend.py:405\u001b[0m, in \u001b[0;36msheet\u001b[0;34m(analysis_to_replay, view_df, sheet_functions, importers, editors, *args)\u001b[0m\n\u001b[1;32m    403\u001b[0m \u001b[39mif\u001b[39;00m is_in_vs_code() \u001b[39mor\u001b[39;00m is_in_google_colab():\n\u001b[1;32m    404\u001b[0m     log(\u001b[39m'\u001b[39m\u001b[39mmitosheet_sheet_call_location_failed\u001b[39m\u001b[39m'\u001b[39m, failed\u001b[39m=\u001b[39m\u001b[39mTrue\u001b[39;00m)\n\u001b[0;32m--> 405\u001b[0m     \u001b[39mraise\u001b[39;00m \u001b[39mException\u001b[39;00m(\u001b[39m\"\u001b[39m\u001b[39mThe mitosheet currently only works in JupyterLab.\u001b[39m\u001b[39m\\n\u001b[39;00m\u001b[39m\\n\u001b[39;00m\u001b[39mTo see instructions on getting Mitosheet running in JupyterLab, find install instructions here: https://docs.trymito.io/getting-started/installing-mito\u001b[39m\u001b[39m\"\u001b[39m)\n\u001b[1;32m    406\u001b[0m \u001b[39melif\u001b[39;00m is_dash():\n\u001b[1;32m    407\u001b[0m     log(\u001b[39m'\u001b[39m\u001b[39mmitosheet_sheet_call_location_failed\u001b[39m\u001b[39m'\u001b[39m, failed\u001b[39m=\u001b[39m\u001b[39mTrue\u001b[39;00m)\n",
      "\u001b[0;31mException\u001b[0m: The mitosheet currently only works in JupyterLab.\n\nTo see instructions on getting Mitosheet running in JupyterLab, find install instructions here: https://docs.trymito.io/getting-started/installing-mito"
     ]
    }
   ],
   "source": [
    "# Importar la biblioteca Mito\n",
    "import mitosheet\n",
    "import pandas as pd\n",
    "# Crear un DataFrame de ejemplo\n",
    "data = {\n",
    "    'fruta': ['manzana', 'manzana', 'naranja', 'naranja', 'manzana', 'naranja', 'manzana', 'naranja'],\n",
    "    'cliente': ['Juan', 'Ana', 'Juan', 'Ana', 'Ana', 'Juan', 'Juan', 'Ana'],\n",
    "    'ventas': [4, 5, 3, 3, 6, 2, 7, 2]\n",
    "}\n",
    "\n",
    "df = pd.DataFrame(data)\n",
    "\n",
    "# Abrir Mito\n",
    "mitosheet.sheet(df)\n"
   ]
  }
 ],
 "metadata": {
  "kernelspec": {
   "display_name": "Python 3",
   "language": "python",
   "name": "python3"
  },
  "language_info": {
   "codemirror_mode": {
    "name": "ipython",
    "version": 3
   },
   "file_extension": ".py",
   "mimetype": "text/x-python",
   "name": "python",
   "nbconvert_exporter": "python",
   "pygments_lexer": "ipython3",
   "version": "3.10.12"
  }
 },
 "nbformat": 4,
 "nbformat_minor": 2
}
